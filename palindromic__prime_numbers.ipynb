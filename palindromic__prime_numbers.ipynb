{
  "nbformat": 4,
  "nbformat_minor": 0,
  "metadata": {
    "colab": {
      "provenance": [],
      "authorship_tag": "ABX9TyNY069qjY0jZxoe+CoBUOfg",
      "include_colab_link": true
    },
    "kernelspec": {
      "name": "python3",
      "display_name": "Python 3"
    },
    "language_info": {
      "name": "python"
    }
  },
  "cells": [
    {
      "cell_type": "markdown",
      "metadata": {
        "id": "view-in-github",
        "colab_type": "text"
      },
      "source": [
        "<a href=\"https://colab.research.google.com/github/andreggalvao/palindromos_primos_pi/blob/main/palindromic__prime_numbers.ipynb\" target=\"_parent\"><img src=\"https://colab.research.google.com/assets/colab-badge.svg\" alt=\"Open In Colab\"/></a>"
      ]
    },
    {
      "cell_type": "code",
      "execution_count": 4,
      "metadata": {
        "colab": {
          "base_uri": "https://localhost:8080/"
        },
        "id": "2g81i38JMz3q",
        "outputId": "09c51fff-07e1-4f76-bee2-58859490aae0"
      },
      "outputs": [
        {
          "output_type": "stream",
          "name": "stdout",
          "text": [
            "[3, 1, 8, 2, 7, 2, 8, 1, 3]\n"
          ]
        }
      ],
      "source": [
        "#Phase 1: What is the first 9-digit palindromic prime found in the decimal expansion of Pi?\n",
        "\n",
        "from mpmath import mp\n",
        "mp.dps = 150000\n",
        "pi = mp.pi\n",
        "\n",
        "pi_list = list(map(int,str(pi)[2:]))\n",
        "tamanho = 9\n",
        "\n",
        "def ehPrimo(n):\n",
        "    return n==2 if n<3 or n%2==0 else all(n%d for d in range(3,int(n**0.5)+2,2))\n",
        "\n",
        "\n",
        "for idx in range(len(pi_list)):\n",
        "  digits =  pi_list[idx:idx+tamanho]\n",
        "  if digits[0]%2 != 0:                #prime só pode ser é impar \n",
        "          if digits == digits[::-1]:  #se é espelhado\n",
        "            res = sum(d * 10**i for i, d in enumerate(digits[::-1])) #verificar se é primo\n",
        "            if ehPrimo(res) == True:\n",
        "              print(digits)\n",
        "\n",
        "            "
      ]
    },
    {
      "cell_type": "code",
      "source": [],
      "metadata": {
        "id": "GRv6b0PGM3vl"
      },
      "execution_count": null,
      "outputs": []
    }
  ]
}